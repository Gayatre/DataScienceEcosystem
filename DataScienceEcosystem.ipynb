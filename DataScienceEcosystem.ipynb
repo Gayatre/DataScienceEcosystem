{
 "cells": [
  {
   "cell_type": "markdown",
   "id": "19fc59af",
   "metadata": {},
   "source": [
    "# Data Science Tools and Ecosystem"
   ]
  },
  {
   "cell_type": "markdown",
   "id": "82273ed8",
   "metadata": {},
   "source": [
    "In this notebook, Data Science Tools and Ecosystem are summerized."
   ]
  },
  {
   "cell_type": "markdown",
   "id": "784a44e6",
   "metadata": {},
   "source": [
    "Some of the popular languages that Data Scientist use are:"
   ]
  },
  {
   "cell_type": "markdown",
   "id": "89a74823",
   "metadata": {},
   "source": [
    "1. Python\n",
    "2. R\n",
    "3. SQL\n",
    "4. Java"
   ]
  },
  {
   "cell_type": "markdown",
   "id": "f2775a12",
   "metadata": {},
   "source": [
    "Some of the commonly used libraries used by Data Scientist include:"
   ]
  },
  {
   "cell_type": "markdown",
   "id": "a8a3996b",
   "metadata": {},
   "source": [
    "1. Scientific Computing Libraries in Python (Pandas, NumPy)\n",
    "2. Visualization Libraries in Python (Matpotlib, Seaborn)\n",
    "3. Machine Learning and Deep Learning (Scikit-learn, Keras)\n",
    "4. Deep Learning (TensorFlow, PyTorch)"
   ]
  },
  {
   "cell_type": "markdown",
   "id": "bd4bae1d",
   "metadata": {},
   "source": [
    "Data Science Tools\n",
    "----------------------------\n",
    "Jupyter Lab\n",
    "\n",
    "R Studio\n",
    "\n",
    "Apache Zappelin"
   ]
  },
  {
   "cell_type": "markdown",
   "id": "8b2379a3",
   "metadata": {},
   "source": [
    "### Below are a few examples of evaluating arithmatic expressions in Python."
   ]
  },
  {
   "cell_type": "code",
   "execution_count": 3,
   "id": "2449266c",
   "metadata": {},
   "outputs": [
    {
     "data": {
      "text/plain": [
       "17"
      ]
     },
     "execution_count": 3,
     "metadata": {},
     "output_type": "execute_result"
    }
   ],
   "source": [
    "#This is a simple arithmetic expression to multiply then add integer.\n",
    "(3*4) + 5\n"
   ]
  },
  {
   "cell_type": "code",
   "execution_count": 4,
   "id": "074be30e",
   "metadata": {},
   "outputs": [
    {
     "data": {
      "text/plain": [
       "3.3333333333333335"
      ]
     },
     "execution_count": 4,
     "metadata": {},
     "output_type": "execute_result"
    }
   ],
   "source": [
    "#This will convert 200 minutes to hours by dividing by 60\n",
    "200/60\n"
   ]
  },
  {
   "cell_type": "markdown",
   "id": "f45cbb98",
   "metadata": {},
   "source": [
    "**Objectives:**\n",
    "    \n",
    "List popular languages for Data Science\n",
    "- Python\n",
    "- R\n",
    "- SQL\n",
    "- Scala\n",
    "- Java\n",
    "- C++\n",
    "- Julia\n",
    "    "
   ]
  },
  {
   "cell_type": "markdown",
   "id": "f02e0705",
   "metadata": {},
   "source": [
    "## Author"
   ]
  },
  {
   "cell_type": "markdown",
   "id": "356183e5",
   "metadata": {},
   "source": [
    "Gayatre Pillai"
   ]
  },
  {
   "cell_type": "code",
   "execution_count": null,
   "id": "040738c5",
   "metadata": {},
   "outputs": [],
   "source": []
  }
 ],
 "metadata": {
  "kernelspec": {
   "display_name": "Python 3 (ipykernel)",
   "language": "python",
   "name": "python3"
  },
  "language_info": {
   "codemirror_mode": {
    "name": "ipython",
    "version": 3
   },
   "file_extension": ".py",
   "mimetype": "text/x-python",
   "name": "python",
   "nbconvert_exporter": "python",
   "pygments_lexer": "ipython3",
   "version": "3.10.10"
  }
 },
 "nbformat": 4,
 "nbformat_minor": 5
}
